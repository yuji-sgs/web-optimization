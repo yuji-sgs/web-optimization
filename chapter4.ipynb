{
  "nbformat": 4,
  "nbformat_minor": 0,
  "metadata": {
    "colab": {
      "provenance": [],
      "authorship_tag": "ABX9TyNck+iF4gbiOVaPU3HU/9hs",
      "include_colab_link": true
    },
    "kernelspec": {
      "name": "python3",
      "display_name": "Python 3"
    },
    "language_info": {
      "name": "python"
    }
  },
  "cells": [
    {
      "cell_type": "markdown",
      "metadata": {
        "id": "view-in-github",
        "colab_type": "text"
      },
      "source": [
        "<a href=\"https://colab.research.google.com/github/yuji-sgs/web-optimization/blob/main/chapter4.ipynb\" target=\"_parent\"><img src=\"https://colab.research.google.com/assets/colab-badge.svg\" alt=\"Open In Colab\"/></a>"
      ]
    },
    {
      "cell_type": "markdown",
      "source": [
        "![表紙](https://www.oreilly.co.jp/books/images/picture978-4-87311-916-8.gif)\n",
        "\n",
        "このノートブックはオライリー・ジャパンより発行の書籍[『ウェブ最適化ではじめる機械学習』（飯塚 修平　著）](https://www.oreilly.co.jp/books/9784873119168/)のサンプルコードです。コードの解説等は書籍をご参照ください。なお、このコードを動作させた結果について、著者およびオライリー・ジャパンは一切の責任を負いません。"
      ],
      "metadata": {
        "id": "YjRw7k_j5eSl"
      }
    },
    {
      "cell_type": "markdown",
      "source": [
        "# 4章: メタヒューリスティクス: 統計モデルを使わない最適化手法"
      ],
      "metadata": {
        "id": "TvNTjOcI5y-j"
      }
    },
    {
      "cell_type": "code",
      "source": [
        "# 必要なモジュールの読み込み\n",
        "import numpy as np\n",
        "from matplotlib import pyplot as plt\n",
        "\n",
        "plt.style.use('grayscale')\n",
        "plt.style.use('seaborn-whitegrid')"
      ],
      "metadata": {
        "colab": {
          "base_uri": "https://localhost:8080/"
        },
        "id": "ZMrigl3F5w16",
        "outputId": "2e526747-378f-46c7-dd7b-8c1c4598b89b"
      },
      "execution_count": 2,
      "outputs": [
        {
          "output_type": "stream",
          "name": "stderr",
          "text": [
            "<ipython-input-2-617811aff667>:6: MatplotlibDeprecationWarning: The seaborn styles shipped by Matplotlib are deprecated since 3.6, as they no longer correspond to the styles shipped by seaborn. However, they will remain available as 'seaborn-v0_8-<style>'. Alternatively, directly use the seaborn API instead.\n",
            "  plt.style.use('seaborn-whitegrid')\n"
          ]
        }
      ]
    },
    {
      "cell_type": "markdown",
      "source": [
        "## 山登り法"
      ],
      "metadata": {
        "id": "T4TxGr0456-y"
      }
    },
    {
      "cell_type": "code",
      "source": [
        "def is_valid(x):\n",
        "  \"\"\"実行可能解であることを確認する。\"\"\"\n",
        "  return all(-1 < i < size for i in list(x))\n",
        "\n",
        "class HillClimbing:\n",
        "  \"\"\"山登り法\n",
        "\n",
        "  Args:\n",
        "    init_x: 初期解\n",
        "    init_f: 初期解の評価値\n",
        "\n",
        "  Attributes:\n",
        "    current_x: 現状解\n",
        "    current_f: 現状解の評価値\n",
        "  \"\"\"\n",
        "\n",
        "  def __init__(self, init_x, init_f):\n",
        "    self.current_x = init_x\n",
        "    self.current_f = init_f\n",
        "\n",
        "  def get_neighbors(self):\n",
        "    \"\"\"近傍解を出力する。\n",
        "\n",
        "    Returns:\n",
        "      近傍解のリスト\n",
        "    \"\"\"\n",
        "    neighbor_xs = []\n",
        "    for i, xi in enumerate(self.current_x):\n",
        "      neighbor_x = list(self.current_x)\n",
        "      neighbor_x[i] += 1\n",
        "      if is_valid(neighbor_x):\n",
        "        neighbor_xs.append(tuple(neighbor_x))\n",
        "\n",
        "      neighbor_x = list(self.current_x)\n",
        "      neighbor_x[i] -= 1\n",
        "      if is_valid(neighbor_x):\n",
        "        neighbor_xs.append(tuple(neighbor_x))\n",
        "    return neighbor_xs\n",
        "\n",
        "  def update(self, neighbor_xs, neighbor_fs):\n",
        "    \"\"\"良い近傍解があれば現状解を更新する。\n",
        "\n",
        "    Args:\n",
        "      neighbor_xs: 評価済みの近傍解のリスト\n",
        "      neighbor_fs: 近傍解の評価値のリスト\n",
        "\n",
        "    Returns:\n",
        "      更新前の現状解と更新後の現状解のタプル\n",
        "    \"\"\"\n",
        "    old_x = self.current_x\n",
        "    if max(neighbor_fs) > self.current_f:\n",
        "      self.current_x = neighbor_xs[\n",
        "          neighbor_fs.index(max(neighbor_fs))]\n",
        "      self.current_f = max(neighbor_fs)\n",
        "    return (old_x, self.current_x)"
      ],
      "metadata": {
        "id": "Qvohm4Me6AxF"
      },
      "execution_count": 4,
      "outputs": []
    },
    {
      "cell_type": "code",
      "source": [
        "init_x = (0, 0)\n",
        "init_f = f(init_x[0], init_x[1])\n",
        "hc = HillClimbing(init_x, init_f)\n",
        "\n",
        "evaluated_xs = {init_x}\n",
        "steps = []\n",
        "\n",
        "for _ in range(6):\n",
        "  neighbor_xs = hc.get_neighbors()\n",
        "  neighbor_fs = [f(x[0], x[1]) for x in neighbor_xs]\n",
        "  step = hc.update(neighbor_xs, neighbor_fs)\n",
        "\n",
        "  print('%s -> %s' % (step))\n",
        "  steps.append(step)\n",
        "  evaluated_xs.update(neighbor_xs)"
      ],
      "metadata": {
        "colab": {
          "base_uri": "https://localhost:8080/"
        },
        "id": "HBJlTN406VjU",
        "outputId": "841954cf-24bb-4d34-e2e6-fcf3655ad94a"
      },
      "execution_count": 5,
      "outputs": [
        {
          "output_type": "stream",
          "name": "stdout",
          "text": [
            "(0, 0) -> (0, 1)\n",
            "(0, 1) -> (0, 2)\n",
            "(0, 2) -> (0, 3)\n",
            "(0, 3) -> (0, 4)\n",
            "(0, 4) -> (0, 4)\n",
            "(0, 4) -> (0, 4)\n"
          ]
        }
      ]
    },
    {
      "cell_type": "code",
      "source": [
        "import matplotlib.ticker as ticker\n",
        "\n",
        "def visualize_path(evaluated_xs, steps):\n",
        "  fig, ax = plt.subplots(figsize=(5, 5))\n",
        "  ax.set_xlim(-.5, size -.5)\n",
        "  ax.set_ylim(-.5, size -.5)\n",
        "\n",
        "  for i in range(size):\n",
        "    for j in range(size):\n",
        "      if (i, j) in evaluated_xs:\n",
        "        ax.text(i, j, '%.1f'%(f(i, j)), ha='center', va='center',\n",
        "                bbox=dict(edgecolor='gray', facecolor='none',\n",
        "                          linewidth=2))\n",
        "      else:\n",
        "        ax.text(i, j, '%.1f'%(f(i, j)), ha='center', va='center')\n",
        "\n",
        "  ax.set_xlabel('$x_1$')\n",
        "  ax.set_ylabel('$x_2$')\n",
        "  ax.xaxis.set_minor_locator(\n",
        "      ticker.FixedLocator(np.arange(-.5, size - .5, 1)))\n",
        "  ax.yaxis.set_minor_locator(\n",
        "      ticker.FixedLocator(np.arange(-.5, size - .5, 1)))\n",
        "\n",
        "  plt.tick_params(axis='both', which='both', bottom='off', top='off',\n",
        "                  left='off', right='off', labelbottom='off',\n",
        "                  labelleft='off')\n",
        "  ax.grid(True, which='minor')\n",
        "  ax.grid(False, which='major')\n",
        "\n",
        "  for step in steps:\n",
        "    ax.annotate('', xy=step[1], xytext=step[0],\n",
        "                arrowprops=dict(shrink=0.2, width=2, lw=0))"
      ],
      "metadata": {
        "id": "rStwllaI6Xh-"
      },
      "execution_count": 6,
      "outputs": []
    },
    {
      "cell_type": "code",
      "source": [
        "# (0,0)  を初期解としたときの山登り法による探索の履歴\n",
        "visualize_path(evaluated_xs, steps)"
      ],
      "metadata": {
        "colab": {
          "base_uri": "https://localhost:8080/",
          "height": 460
        },
        "id": "wTd7JgSm6Z1K",
        "outputId": "7372865b-1615-4bb7-8958-a1c1531633a4"
      },
      "execution_count": 8,
      "outputs": [
        {
          "output_type": "display_data",
          "data": {
            "text/plain": [
              "<Figure size 500x500 with 1 Axes>"
            ],
            "image/png": "[encoded data removed]"
          },
          "metadata": {}
        }
      ]
    },
    {
      "cell_type": "code",
      "source": [
        "# (4,2)  を初期解としたときの山登り法による探索の履歴\n",
        "init_x = (4, 2)\n",
        "init_f = f(init_x[0], init_x[1])\n",
        "hc = HillClimbing(init_x, init_f)\n",
        "\n",
        "evaluated_xs = {init_x}\n",
        "steps = []\n",
        "\n",
        "for _ in range(6):\n",
        "  neighbor_xs = hc.get_neighbors()\n",
        "  neighbor_fs = [f(x[0], x[1]) for x in neighbor_xs]\n",
        "  step = hc.update(neighbor_xs, neighbor_fs)\n",
        "\n",
        "  print('%s -> %s' % (step))\n",
        "  steps.append(step)\n",
        "  evaluated_xs.update(neighbor_xs)\n",
        "\n",
        "visualize_path(evaluated_xs, steps)"
      ],
      "metadata": {
        "colab": {
          "base_uri": "https://localhost:8080/",
          "height": 564
        },
        "id": "q9tU3bl-6cWQ",
        "outputId": "4d60b916-e0c5-40a5-996d-e065cb180a52"
      },
      "execution_count": 10,
      "outputs": [
        {
          "output_type": "stream",
          "name": "stdout",
          "text": [
            "(4, 2) -> (4, 1)\n",
            "(4, 1) -> (4, 0)\n",
            "(4, 0) -> (4, 0)\n",
            "(4, 0) -> (4, 0)\n",
            "(4, 0) -> (4, 0)\n",
            "(4, 0) -> (4, 0)\n"
          ]
        },
        {
          "output_type": "display_data",
          "data": {
            "text/plain": [
              "<Figure size 500x500 with 1 Axes>"
            ],
            "image/png": "[encoded data removed]"
          },
          "metadata": {}
        }
      ]
    }
  ]
}