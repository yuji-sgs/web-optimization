{
  "nbformat": 4,
  "nbformat_minor": 0,
  "metadata": {
    "colab": {
      "provenance": [],
      "authorship_tag": "ABX9TyND9DwQTiUnUyZkZM8vc5Z+",
      "include_colab_link": true
    },
    "kernelspec": {
      "name": "python3",
      "display_name": "Python 3"
    },
    "language_info": {
      "name": "python"
    }
  },
  "cells": [
    {
      "cell_type": "markdown",
      "metadata": {
        "id": "view-in-github",
        "colab_type": "text"
      },
      "source": [
        "<a href=\"https://colab.research.google.com/github/yuji-sgs/web-optimization/blob/main/chapter3.ipynb\" target=\"_parent\"><img src=\"https://colab.research.google.com/assets/colab-badge.svg\" alt=\"Open In Colab\"/></a>"
      ]
    },
    {
      "cell_type": "markdown",
      "source": [
        "![表紙](https://www.oreilly.co.jp/books/images/picture978-4-87311-916-8.gif)\n",
        "\n",
        "このノートブックはオライリー・ジャパンより発行の書籍[『ウェブ最適化ではじめる機械学習』（飯塚 修平　著）](https://www.oreilly.co.jp/books/9784873119168/)のサンプルコードです。コードの解説等は書籍をご参照ください。なお、このコードを動作させた結果について、著者およびオライリー・ジャパンは一切の責任を負いません。"
      ],
      "metadata": {
        "id": "l1wA2mqZbMFF"
      }
    },
    {
      "cell_type": "markdown",
      "source": [
        "# 3章: 組合せのあるテスト: 要素に分解して考える"
      ],
      "metadata": {
        "id": "bBbeaDtnbdg4"
      }
    },
    {
      "cell_type": "code",
      "execution_count": 1,
      "metadata": {
        "colab": {
          "base_uri": "https://localhost:8080/"
        },
        "id": "tHdThU8QbF1-",
        "outputId": "c03ab717-5dc4-4fa8-b241-e866fe62894e"
      },
      "outputs": [
        {
          "output_type": "stream",
          "name": "stderr",
          "text": [
            "<ipython-input-1-89b4c6d4cdb1>:7: MatplotlibDeprecationWarning: The seaborn styles shipped by Matplotlib are deprecated since 3.6, as they no longer correspond to the styles shipped by seaborn. However, they will remain available as 'seaborn-v0_8-<style>'. Alternatively, directly use the seaborn API instead.\n",
            "  plt.style.use('seaborn-whitegrid')\n"
          ]
        }
      ],
      "source": [
        "# 必要なモジュールの読み込み\n",
        "import numpy as np\n",
        "from matplotlib import pyplot as plt\n",
        "import pymc as pm\n",
        "\n",
        "plt.style.use('grayscale')\n",
        "plt.style.use('seaborn-whitegrid')\n",
        "np.random.seed(0)"
      ]
    }
  ]
}